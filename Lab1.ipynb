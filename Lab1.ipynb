{
 "cells": [
  {
   "cell_type": "code",
   "execution_count": 71,
   "metadata": {},
   "outputs": [],
   "source": [
    "! pip install pandas\n",
    "import pandas as pd"
   ]
  },
  {
   "cell_type": "markdown",
   "metadata": {},
   "source": [
    "# B.1"
   ]
  },
  {
   "cell_type": "code",
   "execution_count": null,
   "metadata": {},
   "outputs": [],
   "source": [
    "list_num=[2,4,6,8]\n",
    "s=pd.Series(list_num)\n",
    "print(s)\n",
    "s[0]=0\n",
    "print(s)\n",
    "print('Total series',s.sum())"
   ]
  },
  {
   "cell_type": "markdown",
   "metadata": {},
   "source": [
    "# B.2"
   ]
  },
  {
   "cell_type": "code",
   "execution_count": null,
   "metadata": {},
   "outputs": [],
   "source": [
    "dict_sv={'Name 1': ['Alice', 'Bob', 'Charlie'], 'Age': [25, 30, 35]}\n",
    "df=pd.DataFrame(dict_sv)\n",
    "print(df.iloc[2,:])\n",
    "df['Country']='Viet Nam'\n",
    "df['Score'] = df['Age']/10\n",
    "print(\"Them cot\")\n",
    "display(df)\n",
    "mean_age=df['Age'].mean()\n",
    "print('Mean age',mean_age)"
   ]
  },
  {
   "cell_type": "markdown",
   "metadata": {},
   "source": [
    "# B.3"
   ]
  },
  {
   "cell_type": "code",
   "execution_count": null,
   "metadata": {},
   "outputs": [],
   "source": [
    "key1='Name'\n",
    "key2='Score'\n",
    "value1=['Khoa tap hoc data','A','B','C']\n",
    "value2=[5,10,9,8]\n",
    "dicts={key1:value1,key2:value2}\n",
    "df=pd.DataFrame(dicts)\n",
    "display(df)\n",
    "print('Total score:',df.Score.sum())\n",
    "print('Max score: ',df['Score'].max())\n",
    "print('Min score: ',df['Score'].min())\n",
    "print('Mean score: ',df['Score'].mean())"
   ]
  }
 ],
 "metadata": {
  "kernelspec": {
   "display_name": "base",
   "language": "python",
   "name": "python3"
  },
  "language_info": {
   "codemirror_mode": {
    "name": "ipython",
    "version": 3
   },
   "file_extension": ".py",
   "mimetype": "text/x-python",
   "name": "python",
   "nbconvert_exporter": "python",
   "pygments_lexer": "ipython3",
   "version": "3.12.4"
  }
 },
 "nbformat": 4,
 "nbformat_minor": 2
}
