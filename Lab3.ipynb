{
 "cells": [
  {
   "cell_type": "code",
   "execution_count": 1,
   "metadata": {},
   "outputs": [],
   "source": [
    "import pandas as pd"
   ]
  },
  {
   "cell_type": "markdown",
   "metadata": {},
   "source": [
    "# B1"
   ]
  },
  {
   "cell_type": "code",
   "execution_count": null,
   "metadata": {},
   "outputs": [],
   "source": [
    "df=pd.read_csv(r\"E:\\FPT\\DAT2051\\Labs\\Lab 2\\lab2.csv\")\n",
    "print('Total score')\n",
    "print(df['score'].sum())\n",
    "print('Mean age')\n",
    "print(df['age'].mean())\n",
    "print('Student have a high score')\n",
    "print(df[df['score']==df['score'].max()])\n",
    "print('Student have a low score')\n",
    "print(df[df['score']==df['score'].min()])"
   ]
  },
  {
   "cell_type": "markdown",
   "metadata": {},
   "source": [
    "# B2"
   ]
  },
  {
   "cell_type": "code",
   "execution_count": 25,
   "metadata": {},
   "outputs": [],
   "source": [
    "df['name']=df['name'].fillna('Unknow')"
   ]
  },
  {
   "cell_type": "code",
   "execution_count": null,
   "metadata": {},
   "outputs": [],
   "source": [
    "filter=df['score']>=80\n",
    "df[filter]\n",
    "filter2=df['age']>25\n",
    "df[filter2]\n",
    "filter3=df['name'].str.match('^A')\n",
    "df[filter3]"
   ]
  },
  {
   "cell_type": "markdown",
   "metadata": {},
   "source": [
    "# B3"
   ]
  },
  {
   "cell_type": "code",
   "execution_count": null,
   "metadata": {},
   "outputs": [],
   "source": [
    "df=pd.read_csv(r\"E:\\FPT\\DAT2051\\Labs\\Lab 2\\lab2.csv\")\n",
    "df.isna().sum()\n",
    "df=df.dropna()\n",
    "df[df.duplicated()]\n",
    "df=df.drop_duplicates()\n",
    "df[(df['score']<60) & (df['score']>100)]\n",
    "df.drop(df[(df['score']<60) & (df['score']>100)].index,inplace=True)\n"
   ]
  },
  {
   "cell_type": "markdown",
   "metadata": {},
   "source": [
    "# B4"
   ]
  },
  {
   "cell_type": "code",
   "execution_count": 56,
   "metadata": {},
   "outputs": [
    {
     "name": "stdout",
     "output_type": "stream",
     "text": [
      "<class 'pandas.core.frame.DataFrame'>\n",
      "RangeIndex: 1000 entries, 0 to 999\n",
      "Data columns (total 4 columns):\n",
      " #   Column  Non-Null Count  Dtype \n",
      "---  ------  --------------  ----- \n",
      " 0   name    1000 non-null   object\n",
      " 1   age     1000 non-null   int64 \n",
      " 2   gender  1000 non-null   object\n",
      " 3   score   1000 non-null   int64 \n",
      "dtypes: int64(2), object(2)\n",
      "memory usage: 31.4+ KB\n"
     ]
    }
   ],
   "source": [
    "df=pd.read_csv(r\"E:\\FPT\\DAT2051\\Labs\\Lab 2\\lab2.csv\")\n",
    "df['age']=df['age'].astype('int64')\n",
    "df['gender']=df['gender'].fillna('Unknow')\n",
    "df['score']=df['score'].fillna(df['score'].mean())\n",
    "df['name']=df['name'].fillna('No Inf')\n",
    "# df\n",
    "df.info()"
   ]
  },
  {
   "cell_type": "code",
   "execution_count": 57,
   "metadata": {},
   "outputs": [
    {
     "data": {
      "text/plain": [
       "name      0\n",
       "age       0\n",
       "gender    0\n",
       "score     0\n",
       "dtype: int64"
      ]
     },
     "execution_count": 57,
     "metadata": {},
     "output_type": "execute_result"
    }
   ],
   "source": [
    "df.isna().sum()"
   ]
  }
 ],
 "metadata": {
  "kernelspec": {
   "display_name": "base",
   "language": "python",
   "name": "python3"
  },
  "language_info": {
   "codemirror_mode": {
    "name": "ipython",
    "version": 3
   },
   "file_extension": ".py",
   "mimetype": "text/x-python",
   "name": "python",
   "nbconvert_exporter": "python",
   "pygments_lexer": "ipython3",
   "version": "3.12.4"
  }
 },
 "nbformat": 4,
 "nbformat_minor": 2
}
