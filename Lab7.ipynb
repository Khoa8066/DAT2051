{
 "cells": [
  {
   "cell_type": "code",
   "execution_count": 106,
   "metadata": {},
   "outputs": [],
   "source": [
    "import pandas as pd\n",
    "import numpy as np"
   ]
  },
  {
   "cell_type": "markdown",
   "metadata": {},
   "source": [
    "# B1"
   ]
  },
  {
   "cell_type": "code",
   "execution_count": 107,
   "metadata": {},
   "outputs": [],
   "source": [
    "df=pd.read_csv(r\"E:\\FPT\\DAT2051\\Labs\\Lab 7\\lab7.csv\")\n",
    "time_serie=pd.date_range(start='01-01-2024',end='12-31-2025')\n",
    "df['Date']=np.random.choice(time_serie,size=len(df))\n",
    "df['Year']=df['Date'].dt.year\n",
    "df['Month']=df['Date'].dt.month\n",
    "df['Store']=np.random.choice(['Store A','Store B','Store C','Store D'],size=len(df))\n",
    "df['Year/Month']=df['Year'].astype(str)+'-'+df['Month'].astype(str)\n",
    "df.to_csv('Final_data.csv',index=False)\n",
    "file_lab7='Final_data.csv'"
   ]
  },
  {
   "cell_type": "code",
   "execution_count": null,
   "metadata": {},
   "outputs": [],
   "source": [
    "df=pd.read_csv(file_lab7)\n",
    "df.head(5)"
   ]
  },
  {
   "cell_type": "code",
   "execution_count": 72,
   "metadata": {},
   "outputs": [],
   "source": [
    "df.to_excel('Order.xlsx',index=False)"
   ]
  },
  {
   "cell_type": "code",
   "execution_count": null,
   "metadata": {},
   "outputs": [],
   "source": [
    "df=pd.read_excel('Order.xlsx')\n",
    "df.columns"
   ]
  },
  {
   "cell_type": "code",
   "execution_count": null,
   "metadata": {},
   "outputs": [],
   "source": [
    "df2=df[['order_id','customer_id','total_price']]\n",
    "df2.to_csv('selected_order.csv',index=False)\n",
    "pd.read_csv('selected_order.csv')"
   ]
  },
  {
   "cell_type": "markdown",
   "metadata": {},
   "source": [
    "# B2"
   ]
  },
  {
   "cell_type": "code",
   "execution_count": null,
   "metadata": {},
   "outputs": [],
   "source": [
    "df=pd.read_csv(file_lab7)\n",
    "df.to_hdf('hd5f_1.h5',key='df')\n",
    "pd.read_hdf('hd5f_1.h5')"
   ]
  },
  {
   "cell_type": "code",
   "execution_count": null,
   "metadata": {},
   "outputs": [],
   "source": [
    "for store in df['Store'].unique():\n",
    "    store_data=df[df['Store']==store]\n",
    "    for y in df['Year'].unique():\n",
    "        for m in df[df['Year']==y]['Month'].unique():\n",
    "            group_key=f'{store}/{y}/{m}'\n",
    "            store_data_month=store_data[(store_data['Year']==y)&(store_data['Month']==m)]\n",
    "            store_data_month.to_hdf('orders.h5',key=group_key,mode='a',format='table')\n"
   ]
  },
  {
   "cell_type": "code",
   "execution_count": null,
   "metadata": {},
   "outputs": [
    {
     "name": "stdout",
     "output_type": "stream",
     "text": [
      "Các nhóm dữ liệu có trong tệp HDF5:\n",
      "['/Store D/2025/1', '/Store D/2025/10', '/Store D/2025/11', '/Store D/2025/12', '/Store D/2025/2', '/Store D/2025/3', '/Store D/2025/4', '/Store D/2025/5', '/Store D/2025/6', '/Store D/2025/7', '/Store D/2025/8', '/Store D/2025/9', '/Store D/2024/1', '/Store D/2024/10', '/Store D/2024/11', '/Store D/2024/12', '/Store D/2024/2', '/Store D/2024/3', '/Store D/2024/4', '/Store D/2024/5', '/Store D/2024/6', '/Store D/2024/7', '/Store D/2024/8', '/Store D/2024/9', '/Store C/2025/1', '/Store C/2025/10', '/Store C/2025/11', '/Store C/2025/12', '/Store C/2025/2', '/Store C/2025/3', '/Store C/2025/4', '/Store C/2025/5', '/Store C/2025/6', '/Store C/2025/7', '/Store C/2025/8', '/Store C/2025/9', '/Store C/2024/1', '/Store C/2024/10', '/Store C/2024/11', '/Store C/2024/12', '/Store C/2024/2', '/Store C/2024/3', '/Store C/2024/4', '/Store C/2024/5', '/Store C/2024/6', '/Store C/2024/7', '/Store C/2024/8', '/Store C/2024/9', '/Store B/2025/1', '/Store B/2025/10', '/Store B/2025/11', '/Store B/2025/12', '/Store B/2025/2', '/Store B/2025/3', '/Store B/2025/4', '/Store B/2025/5', '/Store B/2025/6', '/Store B/2025/7', '/Store B/2025/8', '/Store B/2025/9', '/Store B/2024/1', '/Store B/2024/10', '/Store B/2024/11', '/Store B/2024/12', '/Store B/2024/2', '/Store B/2024/3', '/Store B/2024/4', '/Store B/2024/5', '/Store B/2024/6', '/Store B/2024/7', '/Store B/2024/8', '/Store B/2024/9', '/Store A/2025/1', '/Store A/2025/10', '/Store A/2025/11', '/Store A/2025/12', '/Store A/2025/2', '/Store A/2025/3', '/Store A/2025/4', '/Store A/2025/5', '/Store A/2025/6', '/Store A/2025/7', '/Store A/2025/8', '/Store A/2025/9', '/Store A/2024/1', '/Store A/2024/10', '/Store A/2024/11', '/Store A/2024/12', '/Store A/2024/2', '/Store A/2024/3', '/Store A/2024/4', '/Store A/2024/5', '/Store A/2024/6', '/Store A/2024/7', '/Store A/2024/8', '/Store A/2024/9']\n"
     ]
    }
   ],
   "source": [
    "with pd.HDFStore('orders.h5', mode='r') as store:\n",
    "    print(\"Các nhóm dữ liệu có trong tệp HDF5:\")\n",
    "    print(store.keys())\n",
    "    a=[ i.lstrip('/') for i in store.keys()]\n",
    "pd.read_hdf('orders.h5',key=a[1])"
   ]
  },
  {
   "cell_type": "markdown",
   "metadata": {},
   "source": [
    "# B3"
   ]
  },
  {
   "cell_type": "code",
   "execution_count": 131,
   "metadata": {},
   "outputs": [
    {
     "data": {
      "text/html": [
       "<div>\n",
       "<style scoped>\n",
       "    .dataframe tbody tr th:only-of-type {\n",
       "        vertical-align: middle;\n",
       "    }\n",
       "\n",
       "    .dataframe tbody tr th {\n",
       "        vertical-align: top;\n",
       "    }\n",
       "\n",
       "    .dataframe thead th {\n",
       "        text-align: right;\n",
       "    }\n",
       "</style>\n",
       "<table border=\"1\" class=\"dataframe\">\n",
       "  <thead>\n",
       "    <tr style=\"text-align: right;\">\n",
       "      <th></th>\n",
       "      <th>Store</th>\n",
       "      <th>Total_order</th>\n",
       "      <th>Revenue</th>\n",
       "    </tr>\n",
       "  </thead>\n",
       "  <tbody>\n",
       "    <tr>\n",
       "      <th>0</th>\n",
       "      <td>Store A</td>\n",
       "      <td>257</td>\n",
       "      <td>127612.04</td>\n",
       "    </tr>\n",
       "    <tr>\n",
       "      <th>1</th>\n",
       "      <td>Store B</td>\n",
       "      <td>250</td>\n",
       "      <td>129392.31</td>\n",
       "    </tr>\n",
       "    <tr>\n",
       "      <th>2</th>\n",
       "      <td>Store C</td>\n",
       "      <td>251</td>\n",
       "      <td>126575.56</td>\n",
       "    </tr>\n",
       "    <tr>\n",
       "      <th>3</th>\n",
       "      <td>Store D</td>\n",
       "      <td>242</td>\n",
       "      <td>115749.37</td>\n",
       "    </tr>\n",
       "  </tbody>\n",
       "</table>\n",
       "</div>"
      ],
      "text/plain": [
       "     Store  Total_order    Revenue\n",
       "0  Store A          257  127612.04\n",
       "1  Store B          250  129392.31\n",
       "2  Store C          251  126575.56\n",
       "3  Store D          242  115749.37"
      ]
     },
     "execution_count": 131,
     "metadata": {},
     "output_type": "execute_result"
    }
   ],
   "source": [
    "chunk_size=500\n",
    "a=pd.read_csv('Final_data.csv',chunksize=chunk_size)\n",
    "store_total=[]\n",
    "for chunk in a:\n",
    "    x=chunk.groupby('Store')[['order_id','total_price']].agg({'order_id':'count','total_price':'sum'})\n",
    "    x.reset_index(inplace=True)\n",
    "    store_total.append(x)\n",
    "f=pd.concat(store_total).groupby('Store').agg(Total_order=('order_id','sum'),Revenue=('total_price','sum')).reset_index()\n",
    "f"
   ]
  },
  {
   "cell_type": "code",
   "execution_count": 130,
   "metadata": {},
   "outputs": [
    {
     "name": "stdout",
     "output_type": "stream",
     "text": [
      "         total_quantity   revenue\n",
      "Store                            \n",
      "Store A             659  60466.82\n",
      "Store B             699  66027.27\n",
      "Store C             652  66370.78\n",
      "Store D             682  59934.14\n",
      "         total_quantity   revenue\n",
      "Store                            \n",
      "Store A             778  67145.22\n",
      "Store B             645  63365.04\n",
      "Store C             760  60204.78\n",
      "Store D             638  55815.23\n",
      "5513\n",
      "499329.28\n"
     ]
    }
   ],
   "source": [
    "import pandas as pd\n",
    "chunk_size = 500\n",
    "df=pd.read_csv(file_lab7,chunksize=chunk_size)\n",
    "def process_chunk(chunk):\n",
    "    summary = chunk.groupby('Store').agg(total_quantity=('quantity','sum'),revenue=('total_price','sum'))\n",
    "    return summary\n",
    "total_orders = 0\n",
    "total_revenue = 0\n",
    "for chunk in pd.read_csv('Final_data.csv',chunksize=chunk_size):\n",
    "    chunk_summary = process_chunk(chunk)\n",
    "    print(chunk_summary)\n",
    "    total_orders += chunk_summary['total_quantity'].sum()\n",
    "    total_revenue += chunk_summary['revenue'].sum()\n",
    "print(total_orders)\n",
    "print(total_revenue)"
   ]
  },
  {
   "cell_type": "markdown",
   "metadata": {},
   "source": [
    "# B 4"
   ]
  },
  {
   "cell_type": "code",
   "execution_count": 138,
   "metadata": {},
   "outputs": [
    {
     "data": {
      "text/plain": [
       "5513"
      ]
     },
     "execution_count": 138,
     "metadata": {},
     "output_type": "execute_result"
    }
   ],
   "source": [
    "import dask.dataframe as dd\n",
    "ddf = dd.read_csv(file_lab7)\n",
    "ddf['quantity'].sum().compute()"
   ]
  }
 ],
 "metadata": {
  "kernelspec": {
   "display_name": "base",
   "language": "python",
   "name": "python3"
  },
  "language_info": {
   "codemirror_mode": {
    "name": "ipython",
    "version": 3
   },
   "file_extension": ".py",
   "mimetype": "text/x-python",
   "name": "python",
   "nbconvert_exporter": "python",
   "pygments_lexer": "ipython3",
   "version": "3.12.4"
  }
 },
 "nbformat": 4,
 "nbformat_minor": 2
}
